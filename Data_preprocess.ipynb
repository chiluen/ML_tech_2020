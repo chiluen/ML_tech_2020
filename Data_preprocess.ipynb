{
 "cells": [
  {
   "cell_type": "code",
   "execution_count": 1,
   "metadata": {},
   "outputs": [],
   "source": [
    "import pandas as pd\n",
    "import numpy as np\n",
    "import datetime\n",
    "import matplotlib.pyplot as plt"
   ]
  },
  {
   "cell_type": "code",
   "execution_count": 2,
   "metadata": {},
   "outputs": [
    {
     "data": {
      "text/html": [
       "<div>\n",
       "<style scoped>\n",
       "    .dataframe tbody tr th:only-of-type {\n",
       "        vertical-align: middle;\n",
       "    }\n",
       "\n",
       "    .dataframe tbody tr th {\n",
       "        vertical-align: top;\n",
       "    }\n",
       "\n",
       "    .dataframe thead th {\n",
       "        text-align: right;\n",
       "    }\n",
       "</style>\n",
       "<table border=\"1\" class=\"dataframe\">\n",
       "  <thead>\n",
       "    <tr style=\"text-align: right;\">\n",
       "      <th></th>\n",
       "      <th>ID</th>\n",
       "      <th>hotel</th>\n",
       "      <th>is_canceled</th>\n",
       "      <th>lead_time</th>\n",
       "      <th>arrival_date_year</th>\n",
       "      <th>arrival_date_month</th>\n",
       "      <th>arrival_date_week_number</th>\n",
       "      <th>arrival_date_day_of_month</th>\n",
       "      <th>stays_in_weekend_nights</th>\n",
       "      <th>stays_in_week_nights</th>\n",
       "      <th>...</th>\n",
       "      <th>deposit_type</th>\n",
       "      <th>agent</th>\n",
       "      <th>company</th>\n",
       "      <th>days_in_waiting_list</th>\n",
       "      <th>customer_type</th>\n",
       "      <th>adr</th>\n",
       "      <th>required_car_parking_spaces</th>\n",
       "      <th>total_of_special_requests</th>\n",
       "      <th>reservation_status</th>\n",
       "      <th>reservation_status_date</th>\n",
       "    </tr>\n",
       "  </thead>\n",
       "  <tbody>\n",
       "    <tr>\n",
       "      <th>0</th>\n",
       "      <td>0</td>\n",
       "      <td>Resort Hotel</td>\n",
       "      <td>0</td>\n",
       "      <td>342</td>\n",
       "      <td>2015</td>\n",
       "      <td>July</td>\n",
       "      <td>27</td>\n",
       "      <td>1</td>\n",
       "      <td>0</td>\n",
       "      <td>0</td>\n",
       "      <td>...</td>\n",
       "      <td>No Deposit</td>\n",
       "      <td>NaN</td>\n",
       "      <td>NaN</td>\n",
       "      <td>0</td>\n",
       "      <td>Transient</td>\n",
       "      <td>-6.305161</td>\n",
       "      <td>0</td>\n",
       "      <td>0</td>\n",
       "      <td>Check-Out</td>\n",
       "      <td>2015-07-01</td>\n",
       "    </tr>\n",
       "    <tr>\n",
       "      <th>1</th>\n",
       "      <td>1</td>\n",
       "      <td>City Hotel</td>\n",
       "      <td>0</td>\n",
       "      <td>257</td>\n",
       "      <td>2015</td>\n",
       "      <td>July</td>\n",
       "      <td>27</td>\n",
       "      <td>1</td>\n",
       "      <td>0</td>\n",
       "      <td>2</td>\n",
       "      <td>...</td>\n",
       "      <td>No Deposit</td>\n",
       "      <td>6.0</td>\n",
       "      <td>NaN</td>\n",
       "      <td>0</td>\n",
       "      <td>Transient</td>\n",
       "      <td>75.052227</td>\n",
       "      <td>0</td>\n",
       "      <td>0</td>\n",
       "      <td>Check-Out</td>\n",
       "      <td>2015-07-03</td>\n",
       "    </tr>\n",
       "    <tr>\n",
       "      <th>2</th>\n",
       "      <td>2</td>\n",
       "      <td>City Hotel</td>\n",
       "      <td>0</td>\n",
       "      <td>257</td>\n",
       "      <td>2015</td>\n",
       "      <td>July</td>\n",
       "      <td>27</td>\n",
       "      <td>1</td>\n",
       "      <td>0</td>\n",
       "      <td>2</td>\n",
       "      <td>...</td>\n",
       "      <td>No Deposit</td>\n",
       "      <td>6.0</td>\n",
       "      <td>NaN</td>\n",
       "      <td>0</td>\n",
       "      <td>Transient</td>\n",
       "      <td>74.546401</td>\n",
       "      <td>0</td>\n",
       "      <td>0</td>\n",
       "      <td>Check-Out</td>\n",
       "      <td>2015-07-03</td>\n",
       "    </tr>\n",
       "    <tr>\n",
       "      <th>3</th>\n",
       "      <td>3</td>\n",
       "      <td>City Hotel</td>\n",
       "      <td>0</td>\n",
       "      <td>257</td>\n",
       "      <td>2015</td>\n",
       "      <td>July</td>\n",
       "      <td>27</td>\n",
       "      <td>1</td>\n",
       "      <td>0</td>\n",
       "      <td>2</td>\n",
       "      <td>...</td>\n",
       "      <td>No Deposit</td>\n",
       "      <td>6.0</td>\n",
       "      <td>NaN</td>\n",
       "      <td>0</td>\n",
       "      <td>Transient</td>\n",
       "      <td>76.376288</td>\n",
       "      <td>0</td>\n",
       "      <td>0</td>\n",
       "      <td>Check-Out</td>\n",
       "      <td>2015-07-03</td>\n",
       "    </tr>\n",
       "    <tr>\n",
       "      <th>4</th>\n",
       "      <td>4</td>\n",
       "      <td>City Hotel</td>\n",
       "      <td>0</td>\n",
       "      <td>257</td>\n",
       "      <td>2015</td>\n",
       "      <td>July</td>\n",
       "      <td>27</td>\n",
       "      <td>1</td>\n",
       "      <td>0</td>\n",
       "      <td>2</td>\n",
       "      <td>...</td>\n",
       "      <td>No Deposit</td>\n",
       "      <td>6.0</td>\n",
       "      <td>NaN</td>\n",
       "      <td>0</td>\n",
       "      <td>Transient</td>\n",
       "      <td>49.411647</td>\n",
       "      <td>0</td>\n",
       "      <td>0</td>\n",
       "      <td>Check-Out</td>\n",
       "      <td>2015-07-03</td>\n",
       "    </tr>\n",
       "  </tbody>\n",
       "</table>\n",
       "<p>5 rows × 33 columns</p>\n",
       "</div>"
      ],
      "text/plain": [
       "   ID         hotel  is_canceled  lead_time  arrival_date_year  \\\n",
       "0   0  Resort Hotel            0        342               2015   \n",
       "1   1    City Hotel            0        257               2015   \n",
       "2   2    City Hotel            0        257               2015   \n",
       "3   3    City Hotel            0        257               2015   \n",
       "4   4    City Hotel            0        257               2015   \n",
       "\n",
       "  arrival_date_month  arrival_date_week_number  arrival_date_day_of_month  \\\n",
       "0               July                        27                          1   \n",
       "1               July                        27                          1   \n",
       "2               July                        27                          1   \n",
       "3               July                        27                          1   \n",
       "4               July                        27                          1   \n",
       "\n",
       "   stays_in_weekend_nights  stays_in_week_nights  ...  deposit_type  agent  \\\n",
       "0                        0                     0  ...    No Deposit    NaN   \n",
       "1                        0                     2  ...    No Deposit    6.0   \n",
       "2                        0                     2  ...    No Deposit    6.0   \n",
       "3                        0                     2  ...    No Deposit    6.0   \n",
       "4                        0                     2  ...    No Deposit    6.0   \n",
       "\n",
       "   company days_in_waiting_list customer_type        adr  \\\n",
       "0      NaN                    0     Transient  -6.305161   \n",
       "1      NaN                    0     Transient  75.052227   \n",
       "2      NaN                    0     Transient  74.546401   \n",
       "3      NaN                    0     Transient  76.376288   \n",
       "4      NaN                    0     Transient  49.411647   \n",
       "\n",
       "  required_car_parking_spaces  total_of_special_requests  reservation_status  \\\n",
       "0                           0                          0           Check-Out   \n",
       "1                           0                          0           Check-Out   \n",
       "2                           0                          0           Check-Out   \n",
       "3                           0                          0           Check-Out   \n",
       "4                           0                          0           Check-Out   \n",
       "\n",
       "   reservation_status_date  \n",
       "0               2015-07-01  \n",
       "1               2015-07-03  \n",
       "2               2015-07-03  \n",
       "3               2015-07-03  \n",
       "4               2015-07-03  \n",
       "\n",
       "[5 rows x 33 columns]"
      ]
     },
     "execution_count": 2,
     "metadata": {},
     "output_type": "execute_result"
    }
   ],
   "source": [
    "train_d = pd.read_csv(\"./Data/train.csv\")\n",
    "train_label = pd.read_csv(\"./Data/train_label.csv\")\n",
    "train_d.head()"
   ]
  },
  {
   "cell_type": "code",
   "execution_count": null,
   "metadata": {},
   "outputs": [],
   "source": [
    "##整理有哪些Column, 以及每一個Column代表的特性\n",
    "\"\"\"\n",
    "ID: int/\n",
    "hotel: str/ (Resort Hotel, City Hotel)\n",
    "is_canceled: int/ Value indicating if the booking was canceled (1) or not (0)\n",
    "lead_time: int/ 從下訂單到實際入住的時間差\n",
    "arrival_date_year: int/ from 2015 to 2017\n",
    "arrival_date_month: str\n",
    "arrival_date_week_number: int/ 用整年52週，哪一週入住的時間來算\n",
    "arrival_date_day_of_month: Day of arrival date\n",
    "stays_in_weekend_nights: int/ Number of weekend nights (Saturday or Sunday) the guest stayed or booked to stay at the hotel(從0~19)\n",
    "stays_in_week_nights: int/ Number of week nights (Monday to Friday) the guest stayed or booked to stay at the hotel(從0~50)\n",
    "adults: int\n",
    "children: int\n",
    "babies: int\n",
    "meal: str/ 5 different meal\n",
    "country: str/ 163 different country\n",
    "market_segment: str/ Market segment designation. In categories, the term “TA” means “Travel Agents” and “TO” means “Tour Operators”: 8種\n",
    "is_repeated_guest: int/ Value indicating if the booking name was from a repeated guest (1) or not (0)\n",
    "previous_cancellations: int/ Number of previous bookings that were cancelled by the customer prior to the current booking\n",
    "previous_bookings_not_canceled: int/ Number of previous bookings not cancelled by the customer prior to the current booking\n",
    "reserved_room_type: str/ Code of room type reserved. Code is presented instead of designation for anonymity reasons. (10種)\n",
    "assigned_room_type: str/ Code for the type of room assigned to the booking. Sometimes the assigned room type differs from the reserved room type due to hotel operation reasons (e.g. overbooking) or by customer request. Code is presented instead of designation for anonymity reasons.(12種)\n",
    "booking_changes: int/ Number of changes/amendments made to the booking from the moment the booking was entered on the PMS until the moment of check-in or cancellation\n",
    "deposit_type:str/ Indication on if the customer made a deposit to guarantee the booking. This variable can assume three categories: No Deposit – no deposit was made; Non Refund – a deposit was made in the value of the total stay cost; Refundable – a deposit was made with a value under the total cost of stay.(3種)\n",
    "agent:int/ ID of the travel agency that made the booking(301種)\n",
    "company:int/ ID of the company/entity that made the booking or responsible for paying the booking. ID is presented instead of designation for anonymity reasons(328種)\n",
    "days_in_waiting_list:int/ Number of days the booking was in the waiting list before it was confirmed to the customer\n",
    "customer_type:str/ Type of booking, assuming one of four categories: Contract - when the booking has an allotment or other type of contract associated to it; Group – when the booking is associated to a group; Transient – when the booking is not part of a group or contract, and is not associated to other transient booking; Transient-party – when the booking is transient, but is associated to at least other transient booking(4種)\n",
    "adr:float/ Average Daily Rate as defined by dividing the sum of all lodging transactions by the total number of staying nights\n",
    "required_car_parking_spaces:int/ Number of car parking spaces required by the customer\n",
    "total_of_special_requests:int/ Number of special requests made by the customer (e.g. twin bed or high floor)\n",
    "reservation_status:str/ Reservation last status, assuming one of three categories: Canceled – booking was canceled by the customer; Check-Out – customer has checked in but already departed; No-Show – customer did not check-in and did inform the hotel of the reason why(3種)\n",
    "reservation_status_date: date/ Date at which the last status was set. This variable can be used in conjunction with the ReservationStatus to understand when was the booking canceled or when did the customer checked-out of the hotel\n",
    "\"\"\"\n",
    "\n",
    "#previous_cancellation與not canceled或許可以合併成新欄位\n",
    "#reserved_room_type 與 assigned_room_type可能不同, 可能因為現場要求換房或overbooking\n",
    "#adr是average daily revenue 相當重要！\n",
    "#reservation status date可以搭配reservation_status, 算出他是否有cancel, 也能藉此算出這個旅客待多久(可以算出Profit)\n",
    "#agent是ID, 暫且不做處理, 直接drop\n",
    "#testing data沒有以下column: is_canceled, adr, reservation_status, reservation_status_date\n",
    "\n",
    "#助教在Cool上面的解釋：\n",
    "#For simplicity, we don't consider refunding while calculating the revenue.\n",
    "#ADR is the average price per day. You don't need to consider the number of people while calculating revenue.\n",
    "#其中一種做法：先predict出revenue, 再按照revenue去做quantization\n",
    "\n",
    "#比較重要的factor\n",
    "#lead time\n",
    "\n",
    "#一些想法：\n",
    "#可以改目標，去預測adr，然後在testing data上乘上week+weekend day就可以是total profit了 //這是不是比較簡單？\n",
    "#額外預測cancel的話, 也可以根據之前的previous cancel, days in waiting list等等預測, (但會缺少很多data)"
   ]
  },
  {
   "cell_type": "markdown",
   "metadata": {},
   "source": [
    "## Data Cleaning"
   ]
  },
  {
   "cell_type": "code",
   "execution_count": 3,
   "metadata": {},
   "outputs": [],
   "source": [
    "def strTodatetime(datestr, format):\n",
    "    return datetime.datetime.strptime(datestr, format)"
   ]
  },
  {
   "cell_type": "code",
   "execution_count": 4,
   "metadata": {},
   "outputs": [
    {
     "name": "stdout",
     "output_type": "stream",
     "text": [
      "0.0 finished\n",
      "0.11 finished\n",
      "0.22 finished\n",
      "0.33 finished\n",
      "0.44 finished\n",
      "0.55 finished\n",
      "0.66 finished\n",
      "0.76 finished\n",
      "0.87 finished\n",
      "0.98 finished\n"
     ]
    }
   ],
   "source": [
    "train_d = pd.read_csv(\"./Data/train.csv\")\n",
    "train_label = pd.read_csv(\"./Data/train_label.csv\")\n",
    "\n",
    "\n",
    "hotel_label = []\n",
    "arrival_date = []\n",
    "country_label = []\n",
    "agent_label = []\n",
    "revenue = []\n",
    "\n",
    "for i in range(train_d.shape[0]):\n",
    "    \"\"\"\n",
    "    整理既有Data\n",
    "    \"\"\"\n",
    "    \n",
    "    #hotel\n",
    "    if train_d[\"hotel\"][i] == 'Resort Hotel':\n",
    "        hotel_label.append(0)\n",
    "    else:\n",
    "        hotel_label.append(1)\n",
    "    \n",
    "    #date\n",
    "    arr_date = str(train_d['arrival_date_year'][i]) + str(train_d['arrival_date_month'][i])+ str(train_d['arrival_date_day_of_month'][i])\n",
    "    arrival_date.append(strTodatetime(arr_date,\"%Y%B%d\"))\n",
    "        \n",
    "    #Country, 先把'PRT'設為1, 其餘為0\n",
    "    if train_d[\"country\"][i] == 'PRT':\n",
    "        country_label.append(1)\n",
    "    else:\n",
    "        country_label.append(0)\n",
    "        \n",
    "    \"\"\"\n",
    "    新增Column\n",
    "    \"\"\"\n",
    "    revenue.append(train_d['adr'][i] * (train_d['stays_in_week_nights'][i] + train_d['stays_in_weekend_nights'][i]))\n",
    "    \n",
    "    if i % 10000 == 0:\n",
    "        print('{} finished'.format(round(i/train_d.shape[0], 2)))\n",
    "\n",
    "train_d = train_d.join(pd.get_dummies(train_d.meal, prefix='meal')) #meal for one hot\n",
    "train_d = train_d.join(pd.get_dummies(train_d.market_segment, prefix='segment')) #market_segment for one hot\n",
    "train_d = train_d.join(pd.get_dummies(train_d.assigned_room_type, prefix = 'assigned_room'))\n",
    "train_d = train_d.join(pd.get_dummies(train_d.deposit_type, prefix = 'deposit_type'))\n",
    "train_d = train_d.join(pd.get_dummies(train_d.customer_type, prefix = 'customer_type'))\n",
    "train_d = train_d.join(pd.get_dummies(train_d.distribution_channel, prefix = 'distribution_channel'))\n",
    "\n",
    "train_d['hotel_label'] = hotel_label\n",
    "train_d['arrival_date'] = arrival_date\n",
    "train_d['country_label'] = country_label\n",
    "train_d['revenue'] = revenue\n"
   ]
  },
  {
   "cell_type": "code",
   "execution_count": 5,
   "metadata": {},
   "outputs": [
    {
     "name": "stderr",
     "output_type": "stream",
     "text": [
      "<ipython-input-5-f0997e5d0c8c>:10: SettingWithCopyWarning: \n",
      "A value is trying to be set on a copy of a slice from a DataFrame\n",
      "\n",
      "See the caveats in the documentation: https://pandas.pydata.org/pandas-docs/stable/user_guide/indexing.html#returning-a-view-versus-a-copy\n",
      "  train_d['children'][i] = 0\n"
     ]
    }
   ],
   "source": [
    "drop_list = ['meal','market_segment','assigned_room_type','deposit_type','customer_type',\n",
    "             'hotel','country','arrival_date_year','arrival_date_month','arrival_date_day_of_month',\n",
    "             'adr','reservation_status','reservation_status_date','ID',\n",
    "             'distribution_channel','company','agent','reserved_room_type']\n",
    "train_d = train_d.drop(drop_list, axis=1)\n",
    "\n",
    "#補na值\n",
    "for i in range(train_d.shape[0]):\n",
    "    if np.isnan(train_d['children'][i]):\n",
    "        train_d['children'][i] = 0\n",
    "        "
   ]
  },
  {
   "cell_type": "markdown",
   "metadata": {},
   "source": [
    "### 確認adr*day是否符合label"
   ]
  },
  {
   "cell_type": "code",
   "execution_count": null,
   "metadata": {},
   "outputs": [],
   "source": [
    "#結論: 基本上quantize label的結果就是以10000為分界點，部份有label有小錯(或者是我自己弄錯)，基本上是這個規則"
   ]
  },
  {
   "cell_type": "code",
   "execution_count": 6,
   "metadata": {},
   "outputs": [],
   "source": [
    "#after data cleaning\n",
    "from datetime import timedelta, date\n",
    "\n",
    "profit_list = []\n",
    "profit_per_day = 0\n",
    "now_date = train_d['arrival_date'][0]\n",
    "for i in range(train_d.shape[0]):\n",
    "    if now_date == train_d['arrival_date'][i]:\n",
    "        profit_per_day += train_d['revenue'][i] * abs(train_d['is_canceled'][i] - 1)\n",
    "    else:\n",
    "        now_date = train_d['arrival_date'][i]\n",
    "        profit_list.append(profit_per_day)\n",
    "        profit_per_day = 0\n",
    "profit_list.append(profit_per_day)\n",
    "        "
   ]
  },
  {
   "cell_type": "code",
   "execution_count": 7,
   "metadata": {},
   "outputs": [],
   "source": [
    "profit_dic = {}\n",
    "for i in range(len(profit_list)):\n",
    "    if train_label['label'][i] not in profit_dic:\n",
    "        profit_dic[train_label['label'][i]] = [profit_list[i]]\n",
    "    else:\n",
    "        profit_dic[train_label['label'][i]].append(profit_list[i])"
   ]
  },
  {
   "cell_type": "code",
   "execution_count": 8,
   "metadata": {},
   "outputs": [
    {
     "data": {
      "text/plain": [
       "{2.0: [20311.186621487224,\n",
       "  20759.74987379028,\n",
       "  22593.859968622266,\n",
       "  27160.34290489079,\n",
       "  22370.169115972716,\n",
       "  19847.623945856976,\n",
       "  24108.039197919577,\n",
       "  19973.779366014736,\n",
       "  20703.367788638607,\n",
       "  28895.373645585256,\n",
       "  24547.049655372877,\n",
       "  21337.92776577256,\n",
       "  21587.48478555651,\n",
       "  21667.1238146444,\n",
       "  19867.70242745109,\n",
       "  27283.05994372176,\n",
       "  24817.86488205735,\n",
       "  20006.54374576453,\n",
       "  25214.778589736856,\n",
       "  22720.482327616544,\n",
       "  23774.79055152118,\n",
       "  22212.566387814346,\n",
       "  27539.892477099118,\n",
       "  26793.44384300602,\n",
       "  21239.773296657175,\n",
       "  28896.51203869502,\n",
       "  21748.928015891986,\n",
       "  24097.380109439917,\n",
       "  29244.090433206933,\n",
       "  23710.090577514868,\n",
       "  22190.884087111368,\n",
       "  24822.326188700667,\n",
       "  27778.232702941383,\n",
       "  22313.961824376187,\n",
       "  25263.745695542297,\n",
       "  20698.406517082767,\n",
       "  24218.035752881406,\n",
       "  27817.237764772362,\n",
       "  26945.5822550721,\n",
       "  26187.263659301254,\n",
       "  23071.412685792522,\n",
       "  27839.587574570243,\n",
       "  26113.88818675617,\n",
       "  21818.76531558644,\n",
       "  21025.323553372655,\n",
       "  28517.84104108475,\n",
       "  25865.65156575147,\n",
       "  28151.061372650835,\n",
       "  20091.202138183824,\n",
       "  23167.660317000827,\n",
       "  24903.46440935303,\n",
       "  23682.75802595571,\n",
       "  23882.827231457984,\n",
       "  29032.897460109212,\n",
       "  23430.707328724275,\n",
       "  24591.98551817009,\n",
       "  23234.854316493664,\n",
       "  22857.133834019114,\n",
       "  21527.372758391983,\n",
       "  20753.14847472616,\n",
       "  20917.169917594816,\n",
       "  27918.227647791307,\n",
       "  20812.77377156798,\n",
       "  21847.465938058027,\n",
       "  20616.801718851537,\n",
       "  22493.35759628297,\n",
       "  20710.895602494507,\n",
       "  22739.157345229043,\n",
       "  21995.538802205887,\n",
       "  27353.52570639209,\n",
       "  21189.38904631609,\n",
       "  27994.407371051977,\n",
       "  20648.423493421305,\n",
       "  22555.925771525257,\n",
       "  23686.69157498524,\n",
       "  23415.861788538172,\n",
       "  27063.85937427937,\n",
       "  24196.289195382527,\n",
       "  20053.31038540229,\n",
       "  21290.38338359449,\n",
       "  23858.129006006042,\n",
       "  25632.979446358142,\n",
       "  23895.88741652228,\n",
       "  25641.444102826357,\n",
       "  26200.57261920811,\n",
       "  25962.180757854447,\n",
       "  24354.728822679255,\n",
       "  20099.167170588535,\n",
       "  22117.31967193886,\n",
       "  22742.71510028073,\n",
       "  29138.87279047353,\n",
       "  23037.33227196707,\n",
       "  26262.56418879439,\n",
       "  28997.01758646189,\n",
       "  23888.918023513128,\n",
       "  28814.57570415927,\n",
       "  20081.375657443907,\n",
       "  21795.396871105677,\n",
       "  24489.528489187054,\n",
       "  20375.818401349024,\n",
       "  28173.160647527886,\n",
       "  28352.07359672539,\n",
       "  26558.95650198623,\n",
       "  20517.25006617452,\n",
       "  27888.80782886228,\n",
       "  20247.864198319556,\n",
       "  28062.494725998564,\n",
       "  28413.379058537295,\n",
       "  19613.237495640926,\n",
       "  22965.54485274626,\n",
       "  20237.308264851355,\n",
       "  28879.275702892406,\n",
       "  28717.782076974934,\n",
       "  27262.49559893367,\n",
       "  21800.11831297668,\n",
       "  22769.312996671808,\n",
       "  24706.90665436836,\n",
       "  27424.748112222867,\n",
       "  27698.307024079546,\n",
       "  25463.925369803004,\n",
       "  26923.435509732655,\n",
       "  24438.57109707746,\n",
       "  22671.299304650558,\n",
       "  27749.16787543441,\n",
       "  25488.326841583705,\n",
       "  28618.70728813277,\n",
       "  20743.304779044676,\n",
       "  21816.8408340016,\n",
       "  26924.033629342066,\n",
       "  26405.086610327842,\n",
       "  21134.458756647444,\n",
       "  20928.81175525784,\n",
       "  25366.3336212226,\n",
       "  25141.48625667069,\n",
       "  27796.31114632277,\n",
       "  28506.9821952181,\n",
       "  20320.242511909826,\n",
       "  20467.96865220303,\n",
       "  24691.09920871197,\n",
       "  20209.219087366102,\n",
       "  24936.4145194318,\n",
       "  23839.28524436159,\n",
       "  24126.69729004249,\n",
       "  25101.286139731732,\n",
       "  29199.197169305793,\n",
       "  27586.240903968675,\n",
       "  22961.657747212466,\n",
       "  25815.248754928936,\n",
       "  21644.471548304387,\n",
       "  27695.536884977566,\n",
       "  23080.11125777761,\n",
       "  23733.34257960342,\n",
       "  22451.245309500802,\n",
       "  27936.32316334389,\n",
       "  18889.582859224258,\n",
       "  29317.681008298496,\n",
       "  21081.90078095106,\n",
       "  22921.683724985378,\n",
       "  21471.637710781062,\n",
       "  22742.625307325958,\n",
       "  22425.288954166914,\n",
       "  25897.294423609957,\n",
       "  23053.486161008917,\n",
       "  22103.82115105272,\n",
       "  20215.613344182813,\n",
       "  23331.00739132073,\n",
       "  20199.077122109276,\n",
       "  21345.68263127314,\n",
       "  22896.27381097716,\n",
       "  27418.76998573649,\n",
       "  20607.342257172022,\n",
       "  26057.377753523913,\n",
       "  29329.28850179002,\n",
       "  20067.444754964337,\n",
       "  27396.55361208544,\n",
       "  28949.04804397597,\n",
       "  20867.597720867674,\n",
       "  24942.624002169032,\n",
       "  27416.378175344224,\n",
       "  22862.609232282037,\n",
       "  22736.47977624255,\n",
       "  21074.069208787485,\n",
       "  25458.404192970796,\n",
       "  24004.582959530715,\n",
       "  26217.381380478044,\n",
       "  23921.47419856109],\n",
       " 1.0: [16530.64527655626,\n",
       "  12805.237346415994,\n",
       "  17324.205732896407,\n",
       "  19591.458477872922,\n",
       "  10930.818639041861,\n",
       "  12148.62265110177,\n",
       "  10274.330081330403,\n",
       "  15424.441427713196,\n",
       "  12779.152461695016,\n",
       "  15595.747583205817,\n",
       "  11770.801310812767,\n",
       "  10482.648202872819,\n",
       "  12401.56817998233,\n",
       "  18021.080647189083,\n",
       "  18158.023840853406,\n",
       "  14661.40819237447,\n",
       "  17194.888687753475,\n",
       "  18132.50576078042,\n",
       "  18961.852367127292,\n",
       "  13113.854901452669,\n",
       "  18953.552262937956,\n",
       "  16518.297751002017,\n",
       "  13552.536928517753,\n",
       "  16678.23785666311,\n",
       "  17133.176316153535,\n",
       "  10714.44077527489,\n",
       "  11692.028210944662,\n",
       "  15491.438771335725,\n",
       "  17215.139901251983,\n",
       "  17515.964343783948,\n",
       "  16555.941267336,\n",
       "  10308.17890489606,\n",
       "  13214.163640147352,\n",
       "  11608.568890999439,\n",
       "  12553.450886199831,\n",
       "  15721.973365299678,\n",
       "  15827.556813831492,\n",
       "  11664.245747971036,\n",
       "  19546.269101613267,\n",
       "  14647.30678787448,\n",
       "  15843.721897665828,\n",
       "  18101.795095964626,\n",
       "  12257.875747979348,\n",
       "  11734.35206580299,\n",
       "  13765.364752842725,\n",
       "  10007.508446916074,\n",
       "  10734.189581862795,\n",
       "  11970.471095485449,\n",
       "  17446.035155888007,\n",
       "  15003.556135804574,\n",
       "  13460.478830205677,\n",
       "  12495.261863545586,\n",
       "  12325.239246163448,\n",
       "  16864.99622566309,\n",
       "  14076.498355885262,\n",
       "  18210.432053789114,\n",
       "  10595.111930051684,\n",
       "  10881.425217848324,\n",
       "  11200.028016090359,\n",
       "  18015.276186722003,\n",
       "  18918.27923894796,\n",
       "  12503.195631084442,\n",
       "  15605.475322801069,\n",
       "  15372.858993108393,\n",
       "  16869.876575691535,\n",
       "  14477.736479929925,\n",
       "  12933.178873005429,\n",
       "  17750.350201691657,\n",
       "  14333.679886663045,\n",
       "  11871.526482610989,\n",
       "  16722.323101083777,\n",
       "  18643.00475018993,\n",
       "  19735.040861956495,\n",
       "  19584.40898138347,\n",
       "  18399.287915752437,\n",
       "  19507.174572495995,\n",
       "  15214.669840515739,\n",
       "  18655.222334958973,\n",
       "  17398.902701235773,\n",
       "  15768.3797942063,\n",
       "  18894.85911439804,\n",
       "  13463.778627985277,\n",
       "  15116.632283012925,\n",
       "  19815.344955739365,\n",
       "  18700.55487628412,\n",
       "  14796.335742824089,\n",
       "  19251.783159133043,\n",
       "  19420.698502186155,\n",
       "  19069.117345191546,\n",
       "  14668.465803483941,\n",
       "  12676.412707544969,\n",
       "  10854.595241720232,\n",
       "  18300.244100877593,\n",
       "  19088.61356941333,\n",
       "  15447.664935599847,\n",
       "  10847.488025504083,\n",
       "  15004.943954465773,\n",
       "  14667.910730999958,\n",
       "  15321.826467170347,\n",
       "  13746.310448409014,\n",
       "  18255.662090693833,\n",
       "  19727.172078884854,\n",
       "  15142.260206755813,\n",
       "  12984.840736323562,\n",
       "  12587.880426935666,\n",
       "  12467.341229684991,\n",
       "  10168.094048241865,\n",
       "  14909.676724065597,\n",
       "  14338.979064633673,\n",
       "  12823.782202723925,\n",
       "  11725.046077282457,\n",
       "  17488.25921521516,\n",
       "  16098.782004273111,\n",
       "  19741.04726520436,\n",
       "  18325.332718257534,\n",
       "  10933.459321124657,\n",
       "  11534.791043843969,\n",
       "  14092.761449305171,\n",
       "  16242.578207706836,\n",
       "  13993.839544696759,\n",
       "  11389.517784360223,\n",
       "  12483.108069872027,\n",
       "  10746.201920417749,\n",
       "  15757.825199901034,\n",
       "  19364.97539467812,\n",
       "  10839.827198396204,\n",
       "  14004.893461372658,\n",
       "  19440.918144996773,\n",
       "  15088.67836596524,\n",
       "  16315.085117900979,\n",
       "  12173.278605769849,\n",
       "  17778.592047089576,\n",
       "  13168.232261554289,\n",
       "  13356.635935432474,\n",
       "  14933.176381804595,\n",
       "  15781.519998529868,\n",
       "  11056.18525714379,\n",
       "  14435.372607677231,\n",
       "  12750.923370828312,\n",
       "  18339.682401919665,\n",
       "  18010.86124367267,\n",
       "  10686.99690245461,\n",
       "  12952.228086725665,\n",
       "  15544.649662293421,\n",
       "  18745.53655183734,\n",
       "  14609.585102630208,\n",
       "  17376.510859346647,\n",
       "  17932.357712237612,\n",
       "  19879.154880525915,\n",
       "  12938.719166474159,\n",
       "  15226.900539907036,\n",
       "  16133.096734273051],\n",
       " 3.0: [34679.36574186218,\n",
       "  36745.29839784273,\n",
       "  36553.06021588758,\n",
       "  38455.3770356743,\n",
       "  32075.0517390745,\n",
       "  33058.68691570199,\n",
       "  39216.17410731946,\n",
       "  38533.62310982913,\n",
       "  30231.30542399514,\n",
       "  31621.367862933137,\n",
       "  34403.93804541506,\n",
       "  32695.124212241364,\n",
       "  37884.000128376334,\n",
       "  32022.085753671243,\n",
       "  38178.03013469707,\n",
       "  33251.428100509045,\n",
       "  38419.156322249975,\n",
       "  30522.79371036492,\n",
       "  32960.37344616042,\n",
       "  32446.13651960267,\n",
       "  36578.05260832585,\n",
       "  36070.14516180204,\n",
       "  36452.792068921124,\n",
       "  37023.95756561889,\n",
       "  34062.878492578,\n",
       "  30036.963517803575,\n",
       "  32983.67447315557,\n",
       "  31795.269355918037,\n",
       "  35423.08197714278,\n",
       "  32991.8730935525,\n",
       "  33203.11838130423,\n",
       "  38359.11258135654,\n",
       "  36264.07289185698,\n",
       "  30385.410330841634,\n",
       "  31628.828644690177,\n",
       "  34522.336461271065,\n",
       "  36134.351889768426,\n",
       "  31147.67240362442,\n",
       "  32749.530393839446,\n",
       "  38037.87972109188,\n",
       "  29968.06300142354,\n",
       "  36415.41821410625,\n",
       "  34553.3588485317,\n",
       "  37647.60891088676,\n",
       "  37006.7938964747,\n",
       "  36560.38704323608,\n",
       "  30250.8955422032,\n",
       "  30602.62095542613,\n",
       "  32563.98175037582,\n",
       "  37591.95644200622,\n",
       "  33342.68979411692,\n",
       "  37325.562262630694,\n",
       "  31148.791403911866,\n",
       "  33583.552004998586,\n",
       "  29771.486553671024,\n",
       "  34144.73844711568,\n",
       "  33127.56876555082,\n",
       "  35785.54303661177,\n",
       "  32656.17604796764,\n",
       "  38941.284936013995,\n",
       "  33924.74699802166,\n",
       "  33929.607690775396,\n",
       "  35827.43482518196,\n",
       "  33276.384517426886,\n",
       "  34904.3801418012,\n",
       "  35728.6207822539,\n",
       "  31621.4523072908,\n",
       "  37415.63420156754,\n",
       "  38608.97391638727,\n",
       "  39206.476516131435,\n",
       "  33585.81448255938,\n",
       "  33020.09510285023,\n",
       "  32184.401139543028,\n",
       "  35857.733669802925,\n",
       "  39659.51300889029,\n",
       "  37378.31543617073,\n",
       "  36325.782569751915,\n",
       "  38632.44345251667,\n",
       "  35830.625488346246,\n",
       "  35243.55218623329,\n",
       "  33291.894999365344,\n",
       "  39672.3462910898,\n",
       "  37552.678371888374,\n",
       "  32301.209818019142,\n",
       "  33611.0832222916,\n",
       "  33722.17282671518,\n",
       "  35809.43655607018,\n",
       "  33703.04033585939,\n",
       "  38732.14786138563,\n",
       "  34265.28454686257,\n",
       "  32626.47394550345,\n",
       "  30228.58103323667,\n",
       "  38534.356562905996,\n",
       "  39885.37419071819,\n",
       "  38406.36864975236,\n",
       "  37508.27729810653,\n",
       "  35063.15179519128,\n",
       "  31791.70901030212,\n",
       "  34271.49703296961,\n",
       "  34703.2846255309,\n",
       "  30758.1641790881,\n",
       "  35584.79998158858,\n",
       "  37472.888976964474,\n",
       "  38079.93815926813,\n",
       "  29486.92982001841,\n",
       "  30279.6203130778,\n",
       "  29893.79811212734,\n",
       "  32603.134198796477,\n",
       "  33837.785944413685,\n",
       "  33209.19688374516,\n",
       "  29744.29669249709,\n",
       "  30077.769409368062,\n",
       "  36507.177828059095,\n",
       "  33994.73370395969,\n",
       "  30064.207699803817,\n",
       "  33235.90941631278,\n",
       "  39352.62009770351,\n",
       "  34669.35889239853,\n",
       "  31381.405965411173,\n",
       "  36892.17088674986,\n",
       "  32220.860629162715,\n",
       "  31983.932581712656,\n",
       "  32668.98633147214,\n",
       "  35569.36429162414],\n",
       " 5.0: [54573.70632086874,\n",
       "  56576.078804755074,\n",
       "  52213.52202833713,\n",
       "  54833.08722158227,\n",
       "  59170.41287249734,\n",
       "  50249.683581121935,\n",
       "  55765.12459056277,\n",
       "  54380.093089334085,\n",
       "  50822.28671355428,\n",
       "  59152.8510456481,\n",
       "  50009.79459197348,\n",
       "  49859.6271703138,\n",
       "  56537.498450608255,\n",
       "  56227.50342867263,\n",
       "  48121.82220167491,\n",
       "  52688.543973385305,\n",
       "  58105.25878270164,\n",
       "  57997.547572528514,\n",
       "  58990.03807148011,\n",
       "  52004.52405805955,\n",
       "  52402.23836331593],\n",
       " 4.0: [45576.44264591417,\n",
       "  44641.15117808219,\n",
       "  43211.29006118145,\n",
       "  40959.07591482701,\n",
       "  49466.210120385294,\n",
       "  41916.68803162017,\n",
       "  42658.8899943391,\n",
       "  42398.765577082,\n",
       "  43819.77496735851,\n",
       "  44806.4799471254,\n",
       "  44023.34499062921,\n",
       "  41349.92933064058,\n",
       "  40675.17297414791,\n",
       "  46903.75859422013,\n",
       "  49122.96769142981,\n",
       "  41491.7281294469,\n",
       "  40694.95396800648,\n",
       "  40623.5187759257,\n",
       "  46596.977412305634,\n",
       "  42951.07484040766,\n",
       "  46290.58527536129,\n",
       "  41045.713306542726,\n",
       "  43642.86648718027,\n",
       "  47762.203310408586,\n",
       "  41497.19126928308,\n",
       "  48439.56413770496,\n",
       "  46023.500737212555,\n",
       "  43755.222310122525,\n",
       "  49196.358323539986,\n",
       "  40947.08627948819,\n",
       "  41441.07215416375,\n",
       "  48412.51299245888,\n",
       "  43181.092146727184,\n",
       "  47680.56925156635,\n",
       "  46483.48729454311,\n",
       "  45024.23488707152,\n",
       "  48109.213912268664,\n",
       "  43561.488648832754,\n",
       "  43007.90093180766,\n",
       "  40678.86765159952,\n",
       "  42594.235380501705,\n",
       "  43338.40006981242,\n",
       "  45426.74966076138,\n",
       "  45146.70739694174,\n",
       "  41561.49670587715,\n",
       "  42605.57540779733],\n",
       " 6.0: [61565.40665298722,\n",
       "  60522.36150167989,\n",
       "  60522.35381189843,\n",
       "  62416.15242099675,\n",
       "  64536.99403343385,\n",
       "  65692.68527805866,\n",
       "  60321.842852512375,\n",
       "  65648.41432862074,\n",
       "  68982.93621731133,\n",
       "  69005.7327251746,\n",
       "  61794.076206537604,\n",
       "  61024.19802038362,\n",
       "  59947.047202682705],\n",
       " 9.0: [94439.44848369385],\n",
       " 0.0: [7020.660241385157,\n",
       "  9708.883835391502,\n",
       "  8165.860229199438,\n",
       "  7722.623203428262,\n",
       "  9556.398719950424,\n",
       "  8153.508753484562,\n",
       "  5740.869596472068,\n",
       "  6905.936257637392,\n",
       "  6565.622131095689,\n",
       "  3824.5493541235587,\n",
       "  5965.905364679389,\n",
       "  4355.201048642275,\n",
       "  6855.797273675954,\n",
       "  7497.349887372926,\n",
       "  5141.427293799971,\n",
       "  6993.245793902313,\n",
       "  8855.768345756986,\n",
       "  7278.151272898574,\n",
       "  4079.4936342776446,\n",
       "  5276.683021228602,\n",
       "  4685.969179080204,\n",
       "  3292.7640640260393,\n",
       "  6421.448522292099,\n",
       "  3326.613971689228,\n",
       "  4527.481671452643,\n",
       "  8408.399246670604,\n",
       "  8416.906880312306,\n",
       "  1783.045778556323,\n",
       "  2568.410214297301,\n",
       "  7247.421477468355,\n",
       "  3882.990040874822,\n",
       "  4110.452777897843,\n",
       "  5452.0770473468765,\n",
       "  2588.2632303958476,\n",
       "  3578.5579494569442,\n",
       "  1975.1551721942549,\n",
       "  3640.6261162313326,\n",
       "  5695.921986310101,\n",
       "  5498.727760158673,\n",
       "  8223.991474483915,\n",
       "  5265.579656942772,\n",
       "  5525.6579962897495,\n",
       "  9492.570919832819,\n",
       "  9772.717119856448,\n",
       "  7012.987608621152,\n",
       "  7686.9398753770165,\n",
       "  7269.7261635814575,\n",
       "  3769.538204042921,\n",
       "  4795.520158924949,\n",
       "  5859.130321342805,\n",
       "  7784.05976173498,\n",
       "  5586.392546818809,\n",
       "  9596.83867455897,\n",
       "  4740.614830206577,\n",
       "  4821.941030617231,\n",
       "  4082.985539400608,\n",
       "  7376.920497728615,\n",
       "  6730.714278121715,\n",
       "  4001.019432296589,\n",
       "  6385.150098159676,\n",
       "  5560.257526433147,\n",
       "  8026.574017244341,\n",
       "  5812.784517289327,\n",
       "  6449.140771616319,\n",
       "  6930.300703849892,\n",
       "  8476.283292926231,\n",
       "  105.0986064347041,\n",
       "  7786.341446084888,\n",
       "  8900.372630036567,\n",
       "  6903.892200279503,\n",
       "  6734.219554012429,\n",
       "  6877.177222628982,\n",
       "  4075.5914655071147,\n",
       "  6894.526833312448,\n",
       "  9596.567641276579,\n",
       "  8484.106871437065,\n",
       "  9681.439417787264,\n",
       "  8068.399258211319,\n",
       "  8290.724605974292,\n",
       "  8143.1804907786545,\n",
       "  9564.60068927133,\n",
       "  4450.318442985883,\n",
       "  7205.1023600436465,\n",
       "  8536.735000911274,\n",
       "  8506.532430870015,\n",
       "  7342.498786058556,\n",
       "  6130.0276626228015,\n",
       "  7834.155272657511,\n",
       "  7482.448252725788,\n",
       "  8919.02946608968,\n",
       "  7582.440215327766,\n",
       "  6664.844801084574,\n",
       "  7778.413233551949,\n",
       "  8967.793399362276],\n",
       " 8.0: [88248.55840606804, 83757.13737487659],\n",
       " 7.0: [78092.05230779441]}"
      ]
     },
     "execution_count": 8,
     "metadata": {},
     "output_type": "execute_result"
    }
   ],
   "source": [
    "profit_dic"
   ]
  },
  {
   "cell_type": "markdown",
   "metadata": {},
   "source": [
    "## Data normalization"
   ]
  },
  {
   "cell_type": "code",
   "execution_count": 45,
   "metadata": {},
   "outputs": [],
   "source": [
    "from sklearn.preprocessing import StandardScaler\n",
    "z_score_scaler = StandardScaler()\n",
    "from sklearn.preprocessing import MaxAbsScaler\n",
    "maxab_scaler = MaxAbsScaler()"
   ]
  },
  {
   "cell_type": "code",
   "execution_count": 8,
   "metadata": {},
   "outputs": [
    {
     "data": {
      "text/plain": [
       "MaxAbsScaler(copy=True)"
      ]
     },
     "execution_count": 8,
     "metadata": {},
     "output_type": "execute_result"
    }
   ],
   "source": [
    "#部份column不做normalize的原因：原本的column太過於sparse（大部分為0）\n",
    "#只要部份column的mean不會到太大(超過10), 就保留它原本的數值\n",
    "\n",
    "z_score_scaler.fit(train_d[['lead_time','arrival_date_week_number']])\n",
    "maxab_scaler.fit(train_d[['days_in_waiting_list']])"
   ]
  },
  {
   "cell_type": "code",
   "execution_count": 10,
   "metadata": {},
   "outputs": [],
   "source": [
    "train_d[['lead_time','arrival_date_week_number']] = z_score_scaler.transform(train_d[['lead_time','arrival_date_week_number']])\n",
    "train_d[['days_in_waiting_list']] = maxab_scaler.transform(train_d[['days_in_waiting_list']])"
   ]
  },
  {
   "cell_type": "markdown",
   "metadata": {},
   "source": [
    "## Training"
   ]
  },
  {
   "cell_type": "code",
   "execution_count": 46,
   "metadata": {},
   "outputs": [],
   "source": [
    "import xgboost as xgb\n",
    "from sklearn.model_selection import train_test_split"
   ]
  },
  {
   "cell_type": "code",
   "execution_count": 47,
   "metadata": {},
   "outputs": [],
   "source": [
    "#幾個column要拿掉\n",
    "ans = train_d.pop('revenue')\n",
    "canceled_list = train_d.pop('is_canceled')\n",
    "date_time = train_d.pop('arrival_date')"
   ]
  },
  {
   "cell_type": "code",
   "execution_count": 48,
   "metadata": {},
   "outputs": [],
   "source": [
    "X_train, X_test, y_train, y_test = train_test_split(train_d, ans, test_size=0.2, random_state=123)"
   ]
  },
  {
   "cell_type": "code",
   "execution_count": 49,
   "metadata": {},
   "outputs": [],
   "source": [
    "xg_reg = xgb.XGBRegressor(objective ='reg:squarederror', colsample_bytree = 0.3, learning_rate = 0.1,\n",
    "                          max_depth = 100, alpha = 10, n_estimators = 10)"
   ]
  },
  {
   "cell_type": "code",
   "execution_count": 50,
   "metadata": {},
   "outputs": [
    {
     "data": {
      "text/plain": [
       "XGBRegressor(alpha=10, base_score=0.5, booster='gbtree', colsample_bylevel=1,\n",
       "             colsample_bynode=1, colsample_bytree=0.3, gamma=0, gpu_id=-1,\n",
       "             importance_type='gain', interaction_constraints='',\n",
       "             learning_rate=0.1, max_delta_step=0, max_depth=100,\n",
       "             min_child_weight=1, missing=nan, monotone_constraints='()',\n",
       "             n_estimators=10, n_jobs=6, num_parallel_tree=1,\n",
       "             objective='reg:squarederror', random_state=0, reg_alpha=10,\n",
       "             reg_lambda=1, scale_pos_weight=1, subsample=1, tree_method='exact',\n",
       "             validate_parameters=1, verbosity=None)"
      ]
     },
     "execution_count": 50,
     "metadata": {},
     "output_type": "execute_result"
    }
   ],
   "source": [
    "xg_reg.fit(X_train,y_train)"
   ]
  },
  {
   "cell_type": "code",
   "execution_count": 51,
   "metadata": {},
   "outputs": [],
   "source": [
    "preds = xg_reg.predict(X_test)"
   ]
  },
  {
   "cell_type": "code",
   "execution_count": 67,
   "metadata": {},
   "outputs": [],
   "source": [
    "mse = 0\n",
    "y_train = np.array(y_train)\n",
    "for i in range(preds.shape[0]):\n",
    "    mse += abs(preds[i] - y_train[i])\n",
    "mse = mse / preds.shape[0]"
   ]
  },
  {
   "cell_type": "code",
   "execution_count": 68,
   "metadata": {},
   "outputs": [
    {
     "data": {
      "text/plain": [
       "195.47170417191612"
      ]
     },
     "execution_count": 68,
     "metadata": {},
     "output_type": "execute_result"
    }
   ],
   "source": [
    "mse"
   ]
  },
  {
   "cell_type": "code",
   "execution_count": null,
   "metadata": {},
   "outputs": [],
   "source": []
  },
  {
   "cell_type": "code",
   "execution_count": null,
   "metadata": {},
   "outputs": [],
   "source": []
  },
  {
   "cell_type": "markdown",
   "metadata": {},
   "source": [
    "## Some EDA"
   ]
  },
  {
   "cell_type": "code",
   "execution_count": 17,
   "metadata": {},
   "outputs": [],
   "source": [
    "def piechart(data_ori):\n",
    "    data = data_ori.copy()\n",
    "    dic = {}\n",
    "    dic['Nan'] = 0\n",
    "    for i in range(train_d.shape[0]):\n",
    "        if pd.isna(data[i]):\n",
    "            dic['Nan'] += 1\n",
    "            continue\n",
    "        \n",
    "        if data[i] not in dic:\n",
    "            dic[data[i]] = 1\n",
    "        else:\n",
    "            dic[data[i]] += 1  \n",
    "    print(dic)\n",
    "    if dic['Nan'] == 0:\n",
    "        del dic['Nan']\n",
    "    plt.pie(list(dic.values()), labels = list(dic.keys()))\n",
    "    plt.show()\n",
    "    "
   ]
  },
  {
   "cell_type": "code",
   "execution_count": 4,
   "metadata": {},
   "outputs": [
    {
     "name": "stdout",
     "output_type": "stream",
     "text": [
      "{'Nan': 468, 'PRT': 40340, 'IRL': 2280, 'GBR': 8338, 'ESP': 6813, 'USA': 1329, 'FRA': 7931, 'ARG': 149, 'OMN': 15, 'NOR': 336, 'DEU': 5082, 'ROU': 348, 'POL': 722, 'ITA': 2942, 'BRA': 1602, 'BEL': 1563, 'CHE': 1147, 'CN': 747, 'NLD': 1588, 'GRC': 103, 'DNK': 271, 'SWE': 704, 'RUS': 440, 'EST': 67, 'AUS': 240, 'CZE': 135, 'FIN': 334, 'AUT': 891, 'ISR': 488, 'HUN': 166, 'MOZ': 40, 'BWA': 1, 'NZL': 51, 'LUX': 176, 'IDN': 23, 'SVN': 50, 'ALB': 12, 'MAR': 191, 'HRV': 70, 'CHN': 779, 'AGO': 317, 'BGR': 56, 'IND': 110, 'DZA': 87, 'MEX': 56, 'TUN': 33, 'COL': 41, 'KAZ': 13, 'LVA': 46, 'STP': 1, 'UKR': 59, 'VEN': 22, 'TWN': 30, 'IRN': 65, 'SMR': 1, 'TUR': 217, 'KOR': 102, 'BLR': 19, 'JPN': 149, 'PRI': 11, 'SRB': 87, 'LTU': 65, 'CPV': 21, 'AZE': 14, 'LBN': 20, 'CRI': 16, 'CHL': 55, 'THA': 52, 'SVK': 54, 'CMR': 7, 'EGY': 30, 'LIE': 3, 'MYS': 27, 'SAU': 38, 'ZAF': 49, 'MKD': 10, 'MMR': 1, 'DOM': 5, 'IRQ': 13, 'SGP': 36, 'CYM': 1, 'ZMB': 2, 'PAN': 8, 'ZWE': 2, 'SEN': 9, 'NGA': 26, 'GIB': 13, 'ARM': 7, 'PER': 22, 'LKA': 6, 'KWT': 10, 'JOR': 13, 'KNA': 1, 'GEO': 12, 'TMP': 3, 'ETH': 2, 'ECU': 16, 'MUS': 7, 'PHL': 11, 'CUB': 6, 'ARE': 42, 'BFA': 1, 'AND': 3, 'CYP': 39, 'KEN': 3, 'BIH': 11, 'COM': 1, 'SUR': 3, 'JAM': 4, 'HND': 1, 'MCO': 4, 'GNB': 9, 'LBY': 7, 'RWA': 2, 'PAK': 8, 'UGA': 2, 'TZA': 5, 'CIV': 3, 'SYR': 2, 'QAT': 8, 'KHM': 2, 'HKG': 18, 'BGD': 9, 'MLI': 1, 'ISL': 29, 'UZB': 3, 'BHR': 1, 'URY': 17, 'NAM': 1, 'BOL': 10, 'IMN': 1, 'BDI': 1, 'TJK': 8, 'MLT': 13, 'MDV': 7, 'NIC': 1, 'SYC': 1, 'PRY': 1, 'BRB': 4, 'ABW': 1, 'GGY': 3, 'AIA': 1, 'VNM': 5, 'SLV': 1, 'PLW': 1, 'BEN': 1, 'MAC': 11, 'DMA': 1, 'VGB': 1, 'JEY': 5, 'GAB': 3, 'PYF': 1, 'CAF': 3, 'LCA': 1, 'GUY': 1, 'ATA': 2, 'GHA': 3, 'MWI': 2, 'MNE': 3, 'GLP': 2, 'GTM': 3, 'MDG': 1, 'ASM': 1, 'TGO': 1}\n"
     ]
    },
    {
     "data": {
      "image/png": "[encoded data removed]",
      "text/plain": [
       "<Figure size 432x288 with 1 Axes>"
      ]
     },
     "metadata": {},
     "output_type": "display_data"
    }
   ],
   "source": [
    "# 看哪一個country有dominate的現象\n",
    "# 'PRT'有這個現象\n",
    "piechart(train_d['country'])"
   ]
  },
  {
   "cell_type": "code",
   "execution_count": 83,
   "metadata": {},
   "outputs": [
    {
     "name": "stdout",
     "output_type": "stream",
     "text": [
      "{'BB': 71893, 'HB': 10933, 'FB': 714, 'SC': 6952, 'Undefined': 1039}\n"
     ]
    },
    {
     "data": {
      "image/png": "[encoded data removed]",
      "text/plain": [
       "<Figure size 432x288 with 1 Axes>"
      ]
     },
     "metadata": {},
     "output_type": "display_data"
    }
   ],
   "source": [
    "#meal\n",
    "piechart(train_d['meal'])"
   ]
  },
  {
   "cell_type": "code",
   "execution_count": 84,
   "metadata": {},
   "outputs": [
    {
     "name": "stdout",
     "output_type": "stream",
     "text": [
      "{'Direct': 9571, 'Offline TA/TO': 19854, 'Online TA': 40371, 'Corporate': 4516, 'Groups': 16464, 'Complementary': 605, 'Undefined': 2, 'Aviation': 148}\n"
     ]
    },
    {
     "data": {
      "image/png": "[encoded data removed]",
      "text/plain": [
       "<Figure size 432x288 with 1 Axes>"
      ]
     },
     "metadata": {},
     "output_type": "display_data"
    }
   ],
   "source": [
    "#market segment\n",
    "piechart(train_d['market_segment'])"
   ]
  },
  {
   "cell_type": "code",
   "execution_count": 85,
   "metadata": {},
   "outputs": [
    {
     "name": "stdout",
     "output_type": "stream",
     "text": [
      "0.8562891260884291\n",
      "{'C': 1702, 'A': 57127, 'E': 5739, 'B': 1933, 'D': 19316, 'I': 298, 'F': 2813, 'G': 1840, 'H': 523, 'L': 1, 'K': 233, 'P': 6}\n"
     ]
    },
    {
     "data": {
      "image/png": "[encoded data removed]",
      "text/plain": [
       "<Figure size 432x288 with 1 Axes>"
      ]
     },
     "metadata": {},
     "output_type": "display_data"
    }
   ],
   "source": [
    "#檢測有多少reserved與assigned room type一樣\n",
    "#比例差不多\n",
    "print((train_d['reserved_room_type'] == train_d['assigned_room_type']).sum() / train_d.shape[0])\n",
    "\n",
    "piechart(train_d['assigned_room_type'])"
   ]
  },
  {
   "cell_type": "code",
   "execution_count": 107,
   "metadata": {},
   "outputs": [
    {
     "name": "stdout",
     "output_type": "stream",
     "text": [
      "13217\n",
      "{'Nan': 13217, 6.0: 2644, 9.0: 22444, 8.0: 1150, 156.0: 190, 115.0: 223, 253.0: 87, 240.0: 10367, 15.0: 340, 5.0: 274, 241.0: 1157, 250.0: 2026, 304.0: 1, 303.0: 2, 242.0: 572, 243.0: 376, 1.0: 7102, 69.0: 74, 134.0: 476, 175.0: 142, 11.0: 371, 3.0: 1185, 105.0: 14, 40.0: 531, 13.0: 82, 142.0: 137, 196.0: 247, 147.0: 126, 306.0: 22, 149.0: 28, 7.0: 2724, 184.0: 40, 128.0: 23, 96.0: 454, 127.0: 34, 2.0: 139, 143.0: 114, 95.0: 126, 146.0: 101, 27.0: 359, 26.0: 395, 177.0: 256, 244.0: 4, 22.0: 336, 14.0: 2398, 17.0: 241, 261.0: 32, 300.0: 1, 167.0: 3, 171.0: 531, 305.0: 45, 19.0: 808, 67.0: 127, 152.0: 141, 10.0: 194, 36.0: 100, 28.0: 1360, 104.0: 48, 71.0: 71, 42.0: 100, 110.0: 12, 29.0: 633, 258.0: 3, 20.0: 357, 181.0: 33, 66.0: 44, 45.0: 28, 114.0: 1, 34.0: 264, 37.0: 1044, 57.0: 18, 16.0: 186, 61.0: 2, 88.0: 18, 24.0: 22, 39.0: 85, 21.0: 779, 251.0: 144, 4.0: 47, 275.0: 7, 41.0: 75, 50.0: 20, 301.0: 1, 30.0: 398, 68.0: 211, 70.0: 1, 252.0: 29, 72.0: 6, 75.0: 61, 81.0: 6, 245.0: 37, 54.0: 1, 248.0: 131, 89.0: 88, 78.0: 37, 208.0: 173, 183.0: 45, 74.0: 20, 52.0: 71, 85.0: 363, 86.0: 267, 201.0: 42, 12.0: 533, 44.0: 232, 92.0: 7, 256.0: 24, 31.0: 126, 64.0: 23, 83.0: 532, 314.0: 727, 94.0: 108, 273.0: 306, 82.0: 77, 79.0: 34, 281.0: 80, 63.0: 29, 126.0: 13, 193.0: 15, 90.0: 1, 32.0: 15, 99.0: 68, 117.0: 1, 112.0: 15, 47.0: 26, 87.0: 48, 185.0: 78, 106.0: 2, 98.0: 67, 111.0: 14, 330.0: 114, 324.0: 9, 326.0: 165, 182.0: 7, 328.0: 9, 334.0: 28, 332.0: 55, 321.0: 3, 60.0: 19, 313.0: 36, 119.0: 266, 38.0: 274, 339.0: 77, 336.0: 23, 135.0: 2, 148.0: 4, 151.0: 35, 55.0: 16, 350.0: 28, 138.0: 231, 348.0: 13, 155.0: 88, 91.0: 57, 56.0: 347, 103.0: 14, 352.0: 1, 121.0: 31, 158.0: 1, 195.0: 153, 168.0: 97, 335.0: 4, 308.0: 54, 118.0: 69, 159.0: 48, 139.0: 8, 180.0: 4, 355.0: 4, 315.0: 234, 363.0: 6, 144.0: 1, 153.0: 21, 211.0: 2, 210.0: 7, 360.0: 13, 214.0: 5, 310.0: 23, 154.0: 143, 187.0: 23, 375.0: 40, 129.0: 14, 179.0: 2, 213.0: 1, 174.0: 22, 327.0: 20, 220.0: 104, 387.0: 32, 170.0: 11, 173.0: 29, 270.0: 5, 367.0: 1, 216.0: 1, 298.0: 403, 384.0: 2, 232.0: 2, 93.0: 1, 35.0: 109, 23.0: 24, 58.0: 136, 385.0: 30, 257.0: 24, 53.0: 18, 393.0: 13, 406.0: 1, 157.0: 53, 205.0: 16, 405.0: 5, 249.0: 51, 133.0: 56, 150.0: 5, 192.0: 41, 235.0: 29, 132.0: 109, 191.0: 197, 163.0: 3, 236.0: 247, 267.0: 1, 414.0: 2, 333.0: 1, 162.0: 37, 215.0: 15, 227.0: 2, 247.0: 1, 278.0: 1, 427.0: 3, 219.0: 1, 307.0: 13, 430.0: 4, 431.0: 1, 429.0: 1, 420.0: 1, 280.0: 1, 426.0: 3, 285.0: 1, 433.0: 1, 269.0: 2, 289.0: 1, 438.0: 2, 418.0: 8, 436.0: 23, 265.0: 1, 441.0: 6, 295.0: 4, 294.0: 1, 223.0: 18, 432.0: 1, 287.0: 8, 282.0: 2, 288.0: 14, 446.0: 1, 290.0: 5, 325.0: 6, 331.0: 2, 122.0: 2, 450.0: 1, 341.0: 4, 434.0: 1, 234.0: 128, 454.0: 2, 455.0: 4, 344.0: 8, 77.0: 29, 59.0: 1, 368.0: 45, 451.0: 1, 346.0: 1, 468.0: 29, 464.0: 97, 359.0: 21, 283.0: 2, 107.0: 2, 291.0: 1, 364.0: 19, 370.0: 3, 262.0: 1, 33.0: 6, 358.0: 1, 371.0: 4, 25.0: 3, 411.0: 16, 481.0: 8, 141.0: 4, 378.0: 36, 391.0: 2, 254.0: 28, 397.0: 1, 469.0: 1, 165.0: 1, 416.0: 1, 299.0: 1, 404.0: 2, 73.0: 1, 467.0: 27, 197.0: 1, 510.0: 2, 410.0: 1, 390.0: 1, 354.0: 4, 440.0: 56, 444.0: 1, 296.0: 21, 495.0: 50, 337.0: 1, 476.0: 1}\n"
     ]
    },
    {
     "data": {
      "image/png": "[encoded data removed]",
      "text/plain": [
       "<Figure size 432x288 with 1 Axes>"
      ]
     },
     "metadata": {},
     "output_type": "display_data"
    }
   ],
   "source": [
    "#agent\n",
    "print(pd.isna(train_d['agent']).sum()) #總共13217筆為Nan\n",
    "piechart(train_d['agent'])"
   ]
  },
  {
   "cell_type": "code",
   "execution_count": 108,
   "metadata": {},
   "outputs": [
    {
     "name": "stdout",
     "output_type": "stream",
     "text": [
      "{'Nan': 85917, 270.0: 39, 204.0: 33, 110.0: 52, 135.0: 45, 154.0: 114, 113.0: 33, 42.0: 5, 77.0: 1, 178.0: 23, 240.0: 3, 20.0: 42, 83.0: 9, 9.0: 36, 40.0: 797, 46.0: 26, 45.0: 202, 38.0: 51, 103.0: 12, 144.0: 27, 108.0: 8, 47.0: 67, 49.0: 5, 307.0: 18, 268.0: 14, 48.0: 5, 51.0: 97, 62.0: 42, 292.0: 12, 86.0: 30, 67.0: 267, 68.0: 46, 82.0: 13, 200.0: 3, 195.0: 28, 59.0: 5, 76.0: 1, 72.0: 27, 223.0: 655, 84.0: 3, 246.0: 3, 312.0: 3, 65.0: 1, 91.0: 36, 81.0: 22, 318.0: 1, 96.0: 1, 28.0: 5, 287.0: 5, 93.0: 3, 174.0: 134, 94.0: 80, 319.0: 3, 274.0: 14, 100.0: 1, 31.0: 17, 286.0: 21, 159.0: 6, 281.0: 131, 115.0: 3, 116.0: 5, 101.0: 1, 92.0: 13, 105.0: 8, 120.0: 14, 323.0: 8, 317.0: 9, 329.0: 6, 325.0: 2, 118.0: 7, 43.0: 8, 88.0: 20, 331.0: 56, 11.0: 1, 37.0: 10, 324.0: 9, 53.0: 8, 122.0: 18, 278.0: 2, 12.0: 13, 137.0: 4, 297.0: 7, 139.0: 3, 80.0: 1, 16.0: 4, 142.0: 1, 337.0: 17, 127.0: 15, 338.0: 10, 130.0: 6, 342.0: 48, 148.0: 27, 343.0: 29, 346.0: 14, 347.0: 1, 107.0: 9, 140.0: 1, 349.0: 2, 149.0: 5, 143.0: 17, 351.0: 2, 289.0: 2, 61.0: 2, 291.0: 12, 160.0: 1, 353.0: 4, 355.0: 9, 290.0: 14, 163.0: 14, 356.0: 8, 8.0: 1, 54.0: 1, 85.0: 2, 99.0: 12, 250.0: 1, 362.0: 2, 269.0: 24, 358.0: 5, 192.0: 4, 361.0: 2, 14.0: 4, 366.0: 24, 372.0: 3, 277.0: 3, 109.0: 1, 365.0: 29, 207.0: 9, 373.0: 1, 377.0: 5, 179.0: 22, 378.0: 3, 379.0: 9, 183.0: 16, 22.0: 6, 380.0: 11, 364.0: 6, 360.0: 12, 371.0: 9, 383.0: 6, 232.0: 2, 197.0: 12, 384.0: 7, 203.0: 13, 167.0: 7, 185.0: 4, 219.0: 110, 217.0: 2, 212.0: 1, 209.0: 19, 388.0: 6, 390.0: 11, 180.0: 5, 391.0: 2, 215.0: 8, 193.0: 16, 376.0: 1, 392.0: 4, 221.0: 22, 218.0: 43, 165.0: 3, 213.0: 1, 153.0: 128, 224.0: 3, 186.0: 7, 396.0: 17, 302.0: 5, 398.0: 1, 227.0: 21, 225.0: 7, 237.0: 1, 6.0: 1, 216.0: 18, 222.0: 2, 263.0: 14, 370.0: 2, 230.0: 3, 399.0: 9, 169.0: 5, 367.0: 11, 234.0: 1, 397.0: 15, 35.0: 1, 400.0: 2, 369.0: 5, 401.0: 1, 402.0: 1, 403.0: 2, 251.0: 7, 282.0: 2, 405.0: 118, 158.0: 2, 168.0: 2, 245.0: 1, 146.0: 3, 382.0: 5, 104.0: 1, 78.0: 20, 255.0: 5, 408.0: 11, 254.0: 8, 258.0: 1, 253.0: 1, 409.0: 2, 259.0: 2, 202.0: 38, 260.0: 3, 238.0: 15, 413.0: 1, 407.0: 22, 34.0: 7, 10.0: 1, 416.0: 1, 272.0: 3, 257.0: 1, 106.0: 2, 271.0: 2, 39.0: 5, 18.0: 1, 419.0: 1, 275.0: 3, 415.0: 1, 273.0: 1, 421.0: 8, 210.0: 2, 424.0: 1, 425.0: 1, 423.0: 2, 428.0: 9, 395.0: 4, 422.0: 1, 71.0: 2, 284.0: 1, 102.0: 1, 439.0: 1, 435.0: 11, 442.0: 1, 301.0: 1, 233.0: 114, 305.0: 1, 293.0: 5, 264.0: 2, 445.0: 3, 311.0: 2, 280.0: 2, 288.0: 1, 304.0: 2, 309.0: 1, 313.0: 1, 308.0: 33, 320.0: 1, 321.0: 2, 448.0: 3, 150.0: 8, 443.0: 5, 314.0: 1, 316.0: 2, 454.0: 1, 332.0: 2, 334.0: 3, 394.0: 6, 444.0: 5, 457.0: 3, 333.0: 10, 456.0: 2, 459.0: 4, 52.0: 2, 341.0: 3, 458.0: 2, 465.0: 4, 460.0: 2, 461.0: 1, 447.0: 2, 352.0: 1, 470.0: 3, 243.0: 2, 73.0: 3, 466.0: 1, 478.0: 1, 368.0: 1, 350.0: 3, 482.0: 2, 279.0: 4, 386.0: 1, 112.0: 9, 484.0: 2, 330.0: 4, 184.0: 1, 485.0: 1, 348.0: 24, 32.0: 1, 486.0: 1, 487.0: 1, 491.0: 1, 490.0: 5, 494.0: 3, 496.0: 1, 393.0: 1, 499.0: 1, 132.0: 1, 29.0: 2, 501.0: 1, 220.0: 4, 412.0: 1, 411.0: 1, 420.0: 1, 504.0: 11, 410.0: 4, 511.0: 3, 426.0: 2, 507.0: 23, 417.0: 1, 506.0: 1, 514.0: 2, 242.0: 62, 498.0: 58, 515.0: 3, 516.0: 1, 513.0: 2, 512.0: 2, 126.0: 1, 429.0: 2, 64.0: 1, 433.0: 2, 477.0: 22, 518.0: 2, 446.0: 1, 450.0: 1, 523.0: 17, 521.0: 7}\n"
     ]
    },
    {
     "data": {
      "image/png": "[encoded data removed]",
      "text/plain": [
       "<Figure size 432x288 with 1 Axes>"
      ]
     },
     "metadata": {},
     "output_type": "display_data"
    }
   ],
   "source": [
    "#company\n",
    "piechart(train_d['company'])"
   ]
  },
  {
   "cell_type": "code",
   "execution_count": 24,
   "metadata": {},
   "outputs": [
    {
     "name": "stdout",
     "output_type": "stream",
     "text": [
      "{'Nan': 0, 'Transient': 66236, 'Transient-Party': 21386, 'Contract': 3463, 'Group': 446}\n"
     ]
    },
    {
     "data": {
      "image/png": "[encoded data removed]",
      "text/plain": [
       "<Figure size 432x288 with 1 Axes>"
      ]
     },
     "metadata": {},
     "output_type": "display_data"
    }
   ],
   "source": [
    "piechart(train_d['customer_type'])"
   ]
  },
  {
   "cell_type": "code",
   "execution_count": 6,
   "metadata": {},
   "outputs": [
    {
     "name": "stdout",
     "output_type": "stream",
     "text": [
      "{'Nan': 0, 0: 85572, 1: 5934, 2: 22, 3: 1, 8: 2}\n"
     ]
    },
    {
     "data": {
      "image/png": "[encoded data removed]",
      "text/plain": [
       "<Figure size 432x288 with 1 Axes>"
      ]
     },
     "metadata": {},
     "output_type": "display_data"
    }
   ],
   "source": [
    "piechart(train_d['required_car_parking_spaces'])"
   ]
  },
  {
   "cell_type": "code",
   "execution_count": 7,
   "metadata": {},
   "outputs": [
    {
     "name": "stdout",
     "output_type": "stream",
     "text": [
      "{'Nan': 0, 0: 56351, 3: 1645, 2: 9287, 1: 24054, 4: 173, 5: 21}\n"
     ]
    },
    {
     "data": {
      "image/png": "[encoded data removed]",
      "text/plain": [
       "<Figure size 432x288 with 1 Axes>"
      ]
     },
     "metadata": {},
     "output_type": "display_data"
    }
   ],
   "source": [
    "piechart(train_d['total_of_special_requests'])"
   ]
  },
  {
   "cell_type": "code",
   "execution_count": 10,
   "metadata": {},
   "outputs": [
    {
     "name": "stdout",
     "output_type": "stream",
     "text": [
      "{'Nan': 0, 'Check-Out': 58771, 'Canceled': 31741, 'No-Show': 1019}\n"
     ]
    },
    {
     "data": {
      "image/png": "[encoded data removed]",
      "text/plain": [
       "<Figure size 432x288 with 1 Axes>"
      ]
     },
     "metadata": {},
     "output_type": "display_data"
    },
    {
     "name": "stdout",
     "output_type": "stream",
     "text": [
      "{'Nan': 0, 0: 58771, 1: 32760}\n"
     ]
    },
    {
     "data": {
      "image/png": "[encoded data removed]",
      "text/plain": [
       "<Figure size 432x288 with 1 Axes>"
      ]
     },
     "metadata": {},
     "output_type": "display_data"
    }
   ],
   "source": [
    "#canceld的兩者吻合, 用is_canceled即可\n",
    "piechart(train_d['reservation_status'])\n",
    "piechart(train_d['is_canceled'])"
   ]
  },
  {
   "cell_type": "code",
   "execution_count": 25,
   "metadata": {},
   "outputs": [
    {
     "name": "stdout",
     "output_type": "stream",
     "text": [
      "{'Nan': 0, 0: 6092, 2: 26624, 4: 6946, 5: 7795, 1: 24036, 10: 777, 3: 16432, 11: 47, 8: 455, 6: 1101, 7: 741, 15: 79, 9: 162, 13: 23, 12: 35, 42: 1, 20: 41, 33: 1, 21: 13, 16: 15, 14: 33, 19: 43, 24: 3, 25: 6, 22: 7, 30: 5, 18: 6, 17: 4, 35: 1, 50: 1, 34: 1, 41: 1, 40: 2, 32: 1, 26: 1}\n"
     ]
    },
    {
     "data": {
      "image/png": "[encoded data removed]",
      "text/plain": [
       "<Figure size 432x288 with 1 Axes>"
      ]
     },
     "metadata": {},
     "output_type": "display_data"
    },
    {
     "name": "stdout",
     "output_type": "stream",
     "text": [
      "{'Nan': 0, 0: 41153, 1: 23607, 2: 24174, 4: 1357, 3: 918, 6: 142, 5: 71, 18: 1, 9: 10, 7: 19, 13: 3, 8: 58, 10: 7, 12: 5, 14: 2, 19: 1, 16: 3}\n"
     ]
    },
    {
     "data": {
      "image/png": "[encoded data removed]",
      "text/plain": [
       "<Figure size 432x288 with 1 Axes>"
      ]
     },
     "metadata": {},
     "output_type": "display_data"
    },
    {
     "name": "stdout",
     "output_type": "stream",
     "text": [
      "The number of both stay: 44942\n"
     ]
    }
   ],
   "source": [
    "#確認stays in week nights與weekend的關係\n",
    "#滿多人同時住平日 + 週末，比較難以分開計算週末的調整幅度\n",
    "piechart(train_d['stays_in_week_nights'])\n",
    "piechart(train_d['stays_in_weekend_nights'])\n",
    "\n",
    "both_stay = 0\n",
    "k = -1\n",
    "for i in range(train_d.shape[0]):\n",
    "    if train_d['stays_in_week_nights'][i] != 0 and train_d['stays_in_weekend_nights'][i] != 0:\n",
    "        k = i\n",
    "        both_stay += 1\n",
    "        \n",
    "print(\"The number of both stay: {}\".format(both_stay))"
   ]
  },
  {
   "cell_type": "code",
   "execution_count": 18,
   "metadata": {},
   "outputs": [
    {
     "name": "stdout",
     "output_type": "stream",
     "text": [
      "{'Nan': 0, 'Direct': 11411, 'TA/TO': 74226, 'Corporate': 5738, 'Undefined': 5, 'GDS': 151}\n"
     ]
    },
    {
     "data": {
      "image/png": "[encoded data removed]",
      "text/plain": [
       "<Figure size 432x288 with 1 Axes>"
      ]
     },
     "metadata": {},
     "output_type": "display_data"
    }
   ],
   "source": [
    "piechart(train_d['distribution_channel'])"
   ]
  },
  {
   "cell_type": "code",
   "execution_count": 88,
   "metadata": {},
   "outputs": [
    {
     "data": {
      "text/plain": [
       "array(['No Deposit', 'Non Refund', 'Refundable'], dtype=object)"
      ]
     },
     "execution_count": 88,
     "metadata": {},
     "output_type": "execute_result"
    }
   ],
   "source": [
    "pd.unique(train_d['deposit_type'])"
   ]
  },
  {
   "cell_type": "code",
   "execution_count": null,
   "metadata": {},
   "outputs": [],
   "source": []
  }
 ],
 "metadata": {
  "kernelspec": {
   "display_name": "Python 3",
   "language": "python",
   "name": "python3"
  },
  "language_info": {
   "codemirror_mode": {
    "name": "ipython",
    "version": 3
   },
   "file_extension": ".py",
   "mimetype": "text/x-python",
   "name": "python",
   "nbconvert_exporter": "python",
   "pygments_lexer": "ipython3",
   "version": "3.8.3"
  }
 },
 "nbformat": 4,
 "nbformat_minor": 4
}
